{
  "nbformat": 4,
  "nbformat_minor": 0,
  "metadata": {
    "colab": {
      "name": "HW_lab6.ipynb",
      "provenance": [],
      "collapsed_sections": [],
      "toc_visible": true,
      "authorship_tag": "ABX9TyOJPbbS/ZaGKMfvQ7OWG3g2",
      "include_colab_link": true
    },
    "kernelspec": {
      "name": "python3",
      "display_name": "Python 3"
    },
    "language_info": {
      "name": "python"
    }
  },
  "cells": [
    {
      "cell_type": "markdown",
      "metadata": {
        "id": "view-in-github",
        "colab_type": "text"
      },
      "source": [
        "<a href=\"https://colab.research.google.com/github/galinaan50/MLcourseHW/blob/main/HW_lab6.ipynb\" target=\"_parent\"><img src=\"https://colab.research.google.com/assets/colab-badge.svg\" alt=\"Open In Colab\"/></a>"
      ]
    },
    {
      "cell_type": "markdown",
      "source": [
        "#Новини"
      ],
      "metadata": {
        "id": "A85yivrFWJgx"
      }
    },
    {
      "cell_type": "markdown",
      "source": [
        "## Икономиката е в рецесия"
      ],
      "metadata": {
        "id": "DuFm7cSUXC19"
      }
    },
    {
      "cell_type": "markdown",
      "source": [
        "## Увеличава се безработицата"
      ],
      "metadata": {
        "id": "5i93b4IZXr79"
      }
    },
    {
      "cell_type": "code",
      "source": [
        ""
      ],
      "metadata": {
        "id": "sE4oQKzXbEiQ"
      },
      "execution_count": 1,
      "outputs": []
    }
  ]
}