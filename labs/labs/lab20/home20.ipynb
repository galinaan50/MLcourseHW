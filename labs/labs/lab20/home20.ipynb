{
 "cells": [
  {
   "cell_type": "markdown",
   "metadata": {},
   "source": [
    "# create Series Object:\n"
   ]
  },
  {
   "cell_type": "code",
   "execution_count": 3,
   "metadata": {},
   "outputs": [],
   "source": [
    "import pandas as pd"
   ]
  },
  {
   "cell_type": "code",
   "execution_count": 8,
   "metadata": {},
   "outputs": [],
   "source": [
    "prices_ds = pd.Series([1.5, 2, 2.5, 3],\n",
    "index=[\"apples\", \"oranges\", \"bananas\", \"strawberries\"])\n"
   ]
  },
  {
   "cell_type": "markdown",
   "metadata": {},
   "source": [
    "# create DataFrame Object from prices Series:"
   ]
  },
  {
   "cell_type": "code",
   "execution_count": 9,
   "metadata": {},
   "outputs": [
    {
     "name": "stdout",
     "output_type": "stream",
     "text": [
      "                0\n",
      "apples        1.5\n",
      "oranges       2.0\n",
      "bananas       2.5\n",
      "strawberries  3.0\n"
     ]
    }
   ],
   "source": [
    "prices_df = pd.DataFrame(prices_ds)\n",
    "print(prices_df)"
   ]
  },
  {
   "cell_type": "code",
   "execution_count": 12,
   "metadata": {},
   "outputs": [
    {
     "name": "stdout",
     "output_type": "stream",
     "text": [
      "              prices  suppliers\n",
      "apples           1.5  supplier1\n",
      "oranges          2.0  supplier2\n",
      "bananas          2.5  supplier4\n",
      "strawberries     3.0  supplier3\n"
     ]
    }
   ],
   "source": [
    "suppliers_ds = pd.Series([\"supplier1\", \"supplier2\", \"supplier4\", \"supplier3\"],\n",
    "index=[\"apples\", \"oranges\", \"bananas\", \"strawberries\"])\n",
    "\n",
    "fruits_df = pd.DataFrame({\n",
    "  \"prices\": prices_ds,\n",
    "  \"suppliers\": suppliers_ds\n",
    "})\n",
    "print(fruits_df)"
   ]
  }
 ],
 "metadata": {
  "kernelspec": {
   "display_name": "Python 3.9.12 ('base')",
   "language": "python",
   "name": "python3"
  },
  "language_info": {
   "codemirror_mode": {
    "name": "ipython",
    "version": 3
   },
   "file_extension": ".py",
   "mimetype": "text/x-python",
   "name": "python",
   "nbconvert_exporter": "python",
   "pygments_lexer": "ipython3",
   "version": "3.9.12"
  },
  "orig_nbformat": 4,
  "vscode": {
   "interpreter": {
    "hash": "57bc2b6ce032b5f0e93daa91901b7ea38a856826ef43aa9e95b6d3999f5310df"
   }
  }
 },
 "nbformat": 4,
 "nbformat_minor": 2
}
