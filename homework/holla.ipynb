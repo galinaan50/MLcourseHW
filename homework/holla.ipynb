{
  "cells": [
    {
      "cell_type": "code",
      "execution_count": 1,
      "metadata": {
        "colab": {
          "base_uri": "https://localhost:8080/"
        },
        "id": "-uAefjMsqJNy",
        "outputId": "4b149e33-6aad-4a23-cf49-49c699c88627"
      },
      "outputs": [
        {
          "name": "stdout",
          "output_type": "stream",
          "text": [
            "I am happy\n"
          ]
        }
      ],
      "source": [
        "print ('I am happy')\n"
      ]
    }
  ],
  "metadata": {
    "colab": {
      "name": "holla.ipynb",
      "provenance": [],
      "toc_visible": true
    },
    "kernelspec": {
      "display_name": "Python 3.9.12 ('base')",
      "language": "python",
      "name": "python3"
    },
    "language_info": {
      "name": "python",
      "version": "3.9.12"
    },
    "vscode": {
      "interpreter": {
        "hash": "b79b816be9e9bec9b89f626140e431a00512123e755d64a0db8c41f33f2c84f1"
      }
    }
  },
  "nbformat": 4,
  "nbformat_minor": 0
}
