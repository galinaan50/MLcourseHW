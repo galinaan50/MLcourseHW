{
  "nbformat": 4,
  "nbformat_minor": 0,
  "metadata": {
    "colab": {
      "name": "bmi.ipynb",
      "provenance": [],
      "history_visible": true,
      "authorship_tag": "ABX9TyPPo1Js8SyopUOXZ/s6aXnT",
      "include_colab_link": true
    },
    "kernelspec": {
      "name": "python3",
      "display_name": "Python 3"
    },
    "language_info": {
      "name": "python"
    }
  },
  "cells": [
    {
      "cell_type": "markdown",
      "metadata": {
        "id": "view-in-github",
        "colab_type": "text"
      },
      "source": [
        "<a href=\"https://colab.research.google.com/github/galinaan50/MLcourseHW/blob/main/bmi.ipynb\" target=\"_parent\"><img src=\"https://colab.research.google.com/assets/colab-badge.svg\" alt=\"Open In Colab\"/></a>"
      ]
    },
    {
      "cell_type": "code",
      "execution_count": 36,
      "metadata": {
        "colab": {
          "base_uri": "https://localhost:8080/"
        },
        "id": "6h8B8BWsu6Cw",
        "outputId": "0987e753-c907-4067-93d5-d99c86382518"
      },
      "outputs": [
        {
          "output_type": "stream",
          "name": "stdout",
          "text": [
            "Въведи тегло в кг.100\n",
            "въведи височина в м.1.68\n",
            "Вашият индекс е  35.43\n"
          ]
        }
      ],
      "source": [
        "w=int(input('Въведи тегло в кг.'))\n",
        "h=input('въведи височина в м.')\n",
        "\n",
        "h=float(h)\n",
        "BMI=w/(h*h)\n",
        "BMI=round(BMI,2)\n",
        "print(f'Вашият индекс е  {BMI}')\n",
        "\n",
        "\n"
      ]
    }
  ]
}