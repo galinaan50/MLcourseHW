{
  "nbformat": 4,
  "nbformat_minor": 0,
  "metadata": {
    "colab": {
      "name": "demo pyton.ipynb",
      "provenance": [],
      "collapsed_sections": [],
      "toc_visible": true,
      "authorship_tag": "ABX9TyNavgpJD+Y5VyRph7/g386e",
      "include_colab_link": true
    },
    "kernelspec": {
      "name": "python3",
      "display_name": "Python 3"
    },
    "language_info": {
      "name": "python"
    }
  },
  "cells": [
    {
      "cell_type": "markdown",
      "metadata": {
        "id": "view-in-github",
        "colab_type": "text"
      },
      "source": [
        "<a href=\"https://colab.research.google.com/github/galinaan50/MLcourseHW/blob/main/demo_pyton.ipynb\" target=\"_parent\"><img src=\"https://colab.research.google.com/assets/colab-badge.svg\" alt=\"Open In Colab\"/></a>"
      ]
    },
    {
      "cell_type": "markdown",
      "source": [
        "#Jupyter Notebook Demo\n"
      ],
      "metadata": {
        "id": "aJRopSQPRF9h"
      }
    },
    {
      "cell_type": "markdown",
      "source": [
        "## Keyboard Shorcuts"
      ],
      "metadata": {
        "id": "Ujp7R1w_SmMI"
      }
    },
    {
      "cell_type": "markdown",
      "source": [
        "### notes for colab\n",
        "Use prefix Ctrl+M\n",
        "\n",
        "### Execute cell\n",
        "1. aLT+eNTER- RUN CELL AND INSERT NEW CELL\n",
        "1. CTRL+Enter- execute cell\n",
        "1. Shift+Enter-execute cell, and make new code cell"
      ],
      "metadata": {
        "id": "dIY-hUbiTV1A"
      }
    },
    {
      "cell_type": "markdown",
      "source": [
        "## Pyton code Demo"
      ],
      "metadata": {
        "id": "O_sfMinkUzkf"
      }
    },
    {
      "cell_type": "code",
      "source": [
        "import numpy as np\n",
        "import matplotlib.pyplot as plt\n"
      ],
      "metadata": {
        "id": "WpBtZmauU6Is"
      },
      "execution_count": 3,
      "outputs": []
    },
    {
      "cell_type": "code",
      "source": [
        "x=np.arange(1,10)\n",
        "y=x**2\n"
      ],
      "metadata": {
        "id": "hjBQQQ7lA5B9"
      },
      "execution_count": 9,
      "outputs": []
    },
    {
      "cell_type": "code",
      "source": [
        "x"
      ],
      "metadata": {
        "colab": {
          "base_uri": "https://localhost:8080/"
        },
        "id": "gIcTuOleajLl",
        "outputId": "f5fb9f18-8cf4-40ee-b9fb-6f7f0906ed1d"
      },
      "execution_count": 5,
      "outputs": [
        {
          "output_type": "execute_result",
          "data": {
            "text/plain": [
              "array([1, 2, 3, 4, 5, 6, 7, 8, 9])"
            ]
          },
          "metadata": {},
          "execution_count": 5
        }
      ]
    },
    {
      "cell_type": "code",
      "source": [
        "print(x)\n",
        "print(y)"
      ],
      "metadata": {
        "colab": {
          "base_uri": "https://localhost:8080/"
        },
        "id": "zRMH1UNxB8_v",
        "outputId": "6b92119d-163e-420c-9584-5ed3c15c48b6"
      },
      "execution_count": 10,
      "outputs": [
        {
          "output_type": "stream",
          "name": "stdout",
          "text": [
            "[1 2 3 4 5 6 7 8 9]\n",
            "[ 1  4  9 16 25 36 49 64 81]\n"
          ]
        }
      ]
    },
    {
      "cell_type": "code",
      "source": [
        "plt.scatter(x,y)"
      ],
      "metadata": {
        "colab": {
          "base_uri": "https://localhost:8080/",
          "height": 282
        },
        "id": "vSk63aOZDgeX",
        "outputId": "863a7f5b-e0bc-4202-e41b-ae765845bb80"
      },
      "execution_count": 11,
      "outputs": [
        {
          "output_type": "execute_result",
          "data": {
            "text/plain": [
              "<matplotlib.collections.PathCollection at 0x7f35c7fb6990>"
            ]
          },
          "metadata": {},
          "execution_count": 11
        },
        {
          "output_type": "display_data",
          "data": {
            "text/plain": [
              "<Figure size 432x288 with 1 Axes>"
            ],
            "image/png": "[encoded data removed]"
          },
          "metadata": {
            "needs_background": "light"
          }
        }
      ]
    }
  ]
}