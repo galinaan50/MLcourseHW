{
  "nbformat": 4,
  "nbformat_minor": 0,
  "metadata": {
    "colab": {
      "name": "Копие на billphone.ipynb",
      "provenance": [],
      "collapsed_sections": [],
      "authorship_tag": "ABX9TyPvg2rLdj309PTxDJxiEzSs",
      "include_colab_link": true
    },
    "kernelspec": {
      "name": "python3",
      "display_name": "Python 3"
    },
    "language_info": {
      "name": "python"
    }
  },
  "cells": [
    {
      "cell_type": "markdown",
      "metadata": {
        "id": "view-in-github",
        "colab_type": "text"
      },
      "source": [
        "<a href=\"https://colab.research.google.com/github/galinaan50/MLcourseHW/blob/main/%D0%9A%D0%BE%D0%BF%D0%B8%D0%B5_%D0%BD%D0%B0_billphone.ipynb\" target=\"_parent\"><img src=\"https://colab.research.google.com/assets/colab-badge.svg\" alt=\"Open In Colab\"/></a>"
      ]
    },
    {
      "cell_type": "code",
      "execution_count": null,
      "metadata": {
        "id": "84RI7ng9CEek"
      },
      "outputs": [],
      "source": [
        ""
      ]
    },
    {
      "cell_type": "code",
      "source": [
        "user1 = {\n",
        "        'Maria,+39587111111':25.50,\n",
        "        'Ivan,+39587222222':30.48,\n",
        "        'Asen,+39587333333':5.98\n",
        "     }\n",
        "\n",
        "print(user1)\n",
        "\n",
        "user1['ivo,+39587444444']=7.80\n",
        "print(user1)\n",
        "user1['ivo,+39587444444']\n",
        "del user1['ivo,+39587444444']\n",
        "\n",
        "\n",
        "print(user1)\n",
        "\n",
        "\n",
        "print(min(user1))\n",
        "print(max(user1))"
      ],
      "metadata": {
        "colab": {
          "base_uri": "https://localhost:8080/"
        },
        "id": "1_lrtCECCRud",
        "outputId": "d385c1d9-46cf-4aa9-c570-18ecb064b041"
      },
      "execution_count": null,
      "outputs": [
        {
          "output_type": "stream",
          "name": "stdout",
          "text": [
            "{'Maria,+39587111111': 25.5, 'Ivan,+39587222222': 30.48, 'Asen,+39587333333': 5.98}\n",
            "{'Maria,+39587111111': 25.5, 'Ivan,+39587222222': 30.48, 'Asen,+39587333333': 5.98, 'ivo,+39587444444': 7.8}\n",
            "{'Maria,+39587111111': 25.5, 'Ivan,+39587222222': 30.48, 'Asen,+39587333333': 5.98}\n",
            "Asen,+39587333333\n",
            "Maria,+39587111111\n"
          ]
        }
      ]
    }
  ]
}